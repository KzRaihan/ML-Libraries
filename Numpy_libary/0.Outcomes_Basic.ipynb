{
 "cells": [
  {
   "cell_type": "markdown",
   "metadata": {},
   "source": [
    "1. Introduction to NumPy\n",
    "2. Array Creation with initialization using NumPy function\n",
    "3. Reshaping, convert 1-d, 2-d, 3-d arrays and changing data types, stacking and splitting\n",
    "4. Access and modify arrays elements\n",
    "5. Array operations\n",
    "6. Aggregation and statistical functions\n",
    "7. Linear Algebra Operations\n",
    "8. Fourier Transforms\n",
    "9. Input and output arrays\n",
    "\n"
   ]
  }
 ],
 "metadata": {
  "language_info": {
   "name": "python"
  }
 },
 "nbformat": 4,
 "nbformat_minor": 2
}
