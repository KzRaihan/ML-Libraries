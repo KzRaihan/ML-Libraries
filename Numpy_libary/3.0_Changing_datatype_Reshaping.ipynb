{
 "cells": [
  {
   "cell_type": "markdown",
   "metadata": {},
   "source": [
    "Outcome:\n",
    "      - 3.1 changing data types\n",
    "      - 3.2 Reshaping and convert 1-d, 2-d, 3-d arrays\n",
    "      - 3.3 stacking \n",
    "      - 3.4 splitting\n"
   ]
  },
  {
   "cell_type": "code",
   "execution_count": null,
   "metadata": {},
   "outputs": [
    {
     "name": "stdout",
     "output_type": "stream",
     "text": [
      "[1 2 3 4 5]\n",
      "Data type :  int64\n",
      "Each item occupies memory:  8\n",
      "Total memory usage:  40\n",
      "[1 2 3 4 5]\n",
      "Data type :  int8\n",
      "Each item memory usage : 1\n",
      "Total memory usage:  5\n"
     ]
    }
   ],
   "source": [
    "'''  \n",
    " 3.1  Changing data types\n",
    " --------------------------\n",
    " Different data types consume different amounts of memory\n",
    "\n",
    "        int8  uses 1 byte per element\n",
    "        int16 uses 2 bytes per element\n",
    "        int32 uses 4 bytes per element.\n",
    "        int64 uses 8 bytes per element.\n",
    "        float64 uses 8 bytes, while float32 uses 4 bytes.\n",
    "\n",
    "** To Optimize Memory Usage then we need to change the data types.\n",
    "\n",
    "- there are several different ways to change the data type of an array.\n",
    "      - dtype\n",
    "      - astype()\n",
    "\n",
    "\n",
    "'''\n",
    "\n",
    "# Example one: using dtype to reduces memory usage\n",
    "import numpy as np\n",
    "\n",
    "arr1 = np.array([1, 2, 3, 4, 5])\n",
    "print(arr1)\n",
    "print(\"Data type : \",arr1.dtype)  # data type by default\n",
    "\n",
    "# memory usage\n",
    "print(\"Each item occupies memory: \", arr1.itemsize)\n",
    "print(\"Total memory usage: \",arr1.nbytes)\n",
    "\n",
    "# to convert default data type\n",
    "arr2 = np.array([1, 2, 3, 4, 5], dtype=np.int8) \n",
    "print(arr2)\n",
    "print(\"Data type : \",arr2.dtype)  # o/p: int8 (we know int8 is 1 byte)\n",
    "print(\"Each item memory usage :\", arr2.itemsize) \n",
    "print(\"Total memory usage: \",arr2.nbytes)  # memory usage reduced\n",
    "\n"
   ]
  },
  {
   "cell_type": "code",
   "execution_count": null,
   "metadata": {},
   "outputs": [
    {
     "name": "stdout",
     "output_type": "stream",
     "text": [
      "Default array\n",
      "[10 20 30 40 50 60 70 80]\n",
      "Default data type :  int64\n",
      "individual element memory occupied  :  8 Bytes\n",
      "total array memory occupied  :  64 Bytes\n",
      "\n",
      "Convert default data type\n",
      "[10. 20. 30. 40. 50. 60. 70. 80.]\n",
      "Data type :  float32\n",
      "each item memory usage :  4\n",
      "Total array memory occupied  :  32\n"
     ]
    }
   ],
   "source": [
    "# example two : using astype():\n",
    "print(\"Default array\")\n",
    "arr3 = np.array([10, 20, 30, 40, 50, 60, 70, 80])\n",
    "\n",
    "print(arr3)\n",
    "print(\"Default data type : \",arr3.dtype)   # default data type\n",
    "print(\"individual element memory occupied  : \", arr3.itemsize, \"Bytes\")\n",
    "print(\"total array memory occupied  : \", arr3.nbytes, \"Bytes\")\n",
    "\n",
    "\n",
    "# to convert default data type\n",
    "print(\"\\nConvert default data type\")\n",
    "arr3 = arr3.astype(np.float32)  # float32 is 4 bytes\n",
    "\n",
    "print(arr3)\n",
    "print(\"Data type : \",arr3.dtype)\n",
    "print(\"each item memory usage : \",arr3.itemsize)\n",
    "print(\"Total array memory occupied  : \",arr3.nbytes)"
   ]
  },
  {
   "cell_type": "markdown",
   "metadata": {},
   "source": [
    "- 3.2 Reshaping and convert 1-d, 2-d, 3-d arrays and vice versa \n",
    "     ------------------------------------------------------------\n",
    "     - Changing the structure of an array without altering it's data.\n",
    "     - after reshaping an array number of elements are same.\n",
    "     - By using reshaping we can change the dimensions of the array\n",
    "\n",
    "\n",
    "     - There are several way to reshape an array\n",
    "            -> reshape()\n",
    "            -> Transpose() or array_name.T\n",
    "            -> ravel()\n"
   ]
  },
  {
   "cell_type": "code",
   "execution_count": null,
   "metadata": {},
   "outputs": [
    {
     "name": "stdout",
     "output_type": "stream",
     "text": [
      "Original array :  [1 2 3 4 5 6 7 8 9]\n",
      "Original array shape :  (9,)\n",
      "Reshaped array : \n",
      " [[1 2 3]\n",
      " [4 5 6]\n",
      " [7 8 9]]\n",
      "Array shape:  (3, 3)\n",
      "Reshaped array : \n",
      " [[1]\n",
      " [2]\n",
      " [3]\n",
      " [4]\n",
      " [5]\n",
      " [6]\n",
      " [7]\n",
      " [8]\n",
      " [9]]\n",
      "Reshaped array shape:  (9, 1)\n",
      "Reshaped array with -1 : \n",
      " [[1 2 3]\n",
      " [4 5 6]\n",
      " [7 8 9]]\n"
     ]
    }
   ],
   "source": [
    "# example one: using reshape():\n",
    "\n",
    "arr1 = np.array([1, 2, 3, 4, 5, 6, 7, 8, 9])\n",
    "print(\"Original array : \",arr1)\n",
    "print(\"Original array shape : \",arr1.shape) # Total number of elements in original array(9)\n",
    "\n",
    "# reshape to 3x3 array\n",
    "arr1_reshaped = arr1.reshape(3,3)   # 3 = rows and 3 = columns so total number of elements = 3 * 3 = 9. so after reshaping the number of elements are same\n",
    "print(\"Reshaped array : \\n\",arr1_reshaped)\n",
    "print(\"Array shape: \", arr1_reshaped.shape) # o/p: (3,3)\n",
    "\n",
    "# we also reshape arr1 in : (9,1) and (1,9) shape.\n",
    "arr1_reshaped = arr1.reshape(9,1)   # 9 = rows and 1 = columns , total nums of elements(9*1 = 9)\n",
    "print(\"Reshaped array : \\n\",arr1_reshaped)\n",
    "print(\"Reshaped array shape: \", arr1_reshaped.shape) # o/p: (9,1)\n",
    "\n",
    "# reshaping with -1\n",
    "arr1_res = arr1.reshape(3,-1) # rows = 3 and columns = automatically calculated\n",
    "print(\"Reshaped array with -1 : \\n\",arr1_res)"
   ]
  },
  {
   "cell_type": "code",
   "execution_count": null,
   "metadata": {},
   "outputs": [
    {
     "name": "stdout",
     "output_type": "stream",
     "text": [
      "Original 1-d array : \n",
      " [ 1  2  3  4  5  6  7  8  9 10 11 12]\n",
      "Dimension :  1\n",
      "To convert 1-d to 2-d array: \n",
      " [[ 1  2  3]\n",
      " [ 4  5  6]\n",
      " [ 7  8  9]\n",
      " [10 11 12]]\n",
      "Dimension :  2\n",
      "To convert 1-d to 3-d array: \n",
      " [[[ 1  2  3]\n",
      "  [ 4  5  6]]\n",
      "\n",
      " [[ 7  8  9]\n",
      "  [10 11 12]]]\n",
      "Dimension :  3\n"
     ]
    }
   ],
   "source": [
    "# Example two: using reshaping to convert 1-d, 2-d, 3-d arrays\n",
    "\n",
    "# 1-d array\n",
    "arr1 = np.arange(1,13)  # here total elements = 12\n",
    "\n",
    "print(\"Original 1-d array : \\n\",arr1)\n",
    "print(\"Dimension : \",arr1.ndim)\n",
    "\n",
    "# to convert to 2-d array\n",
    "arr2 = arr1.reshape(4,3)   # 4 = rows and 3 = columns (4*3 = 12)\n",
    "print(\"To convert 1-d to 2-d array: \\n\", arr2)\n",
    "print(\"Dimension : \",arr2.ndim)\n",
    "\n",
    "# to convert to 3-d array\n",
    "arr3 = arr1.reshape(2,2,3) # 2 = depth of array , 2 = each depth rows ans 3 = each depth columns(2*2*3 = 12)\n",
    "\n",
    "print(\"To convert 1-d to 3-d array: \\n\", arr3)\n",
    "\n",
    "print(\"Dimension : \",arr3.ndim)"
   ]
  },
  {
   "cell_type": "code",
   "execution_count": null,
   "metadata": {},
   "outputs": [
    {
     "name": "stdout",
     "output_type": "stream",
     "text": [
      "3-d array: \n",
      " [[[ 1  2  3  4]\n",
      "  [ 5  6  7  8]\n",
      "  [ 9 10 11 12]]\n",
      "\n",
      " [[13 14 15 16]\n",
      "  [17 18 19 20]\n",
      "  [21 22 23 24]]]\n",
      "Dimension :  3\n",
      "To convert 3-d to 2-d array: \n",
      " [[ 1  2  3  4]\n",
      " [ 5  6  7  8]\n",
      " [ 9 10 11 12]\n",
      " [13 14 15 16]\n",
      " [17 18 19 20]\n",
      " [21 22 23 24]]\n",
      "Dimension :  2\n",
      "To convert 2-d to 1-d array: \n",
      " [ 1  2  3  4  5  6  7  8  9 10 11 12 13 14 15 16 17 18 19 20 21 22 23 24]\n",
      "Dimension :  1\n"
     ]
    }
   ],
   "source": [
    "# Example three: convert 3-d to 2-d, 1-d array using reshaping(NNB_cds: After reshaping total nums of elements will be same)\n",
    "arr3 = np.arange(1,25).reshape(2,3,4)  # total elements (2*3*4) = 24\n",
    "print(\"3-d array: \\n\",arr3)\n",
    "print(\"Dimension : \",arr3.ndim)\n",
    "\n",
    "# convert to 2-d array\n",
    "arr2 = arr3.reshape(6,4)  # 6 = rows and 4 = columns (6*4 = 24)\n",
    "print(\"To convert 3-d to 2-d array: \\n\", arr2)\n",
    "print(\"Dimension : \",arr2.ndim)\n",
    "\n",
    "# convert to 1-d array\n",
    "arr1 = arr2.reshape(24)  # 24 = total number of elements\n",
    "print(\"To convert 2-d to 1-d array: \\n\", arr1)\n",
    "\n",
    "print(\"Dimension : \",arr1.ndim)"
   ]
  },
  {
   "cell_type": "code",
   "execution_count": 49,
   "metadata": {},
   "outputs": [
    {
     "name": "stdout",
     "output_type": "stream",
     "text": [
      "Original 2-d array: \n",
      " [[10 12 14 16 18]\n",
      " [20 22 24 26 28]\n",
      " [30 32 34 36 38]\n",
      " [40 42 44 46 48]]\n",
      "Dimension :  2\n",
      "\n",
      "1-d array:  [10 12 14 16 18 20 22 24 26 28 30 32 34 36 38 40 42 44 46 48]\n",
      "Dimension :  1\n",
      "\n",
      "3-d array: \n",
      " [[[10 12 14 16 18]\n",
      "  [20 22 24 26 28]]\n",
      "\n",
      " [[30 32 34 36 38]\n",
      "  [40 42 44 46 48]]]\n",
      "Dimension :  3\n"
     ]
    }
   ],
   "source": [
    "# Example four :  convert 3-d to 2-d, 1-d array using reshaping\n",
    "arr2 = np.arange(10,50,2).reshape(4,5) # total number of elements (4*5) = 20\n",
    "print(\"Original 2-d array: \\n\",arr2)\n",
    "print(\"Dimension : \",arr2.ndim)\n",
    "\n",
    "# convert to 1-d array\n",
    "arr1 = arr2.reshape(20)  # 20 = total number of elements\n",
    "print(\"\\n1-d array: \",arr1)\n",
    "print(\"Dimension : \",arr1.ndim)\n",
    "\n",
    "\n",
    "# convert to 3-d array\n",
    "arr3 = arr1.reshape(2,2,5)  # 2 = depth of array , 2 = each depth rows ans 5 = each depth columns(2*2*5 = 20)\n",
    "print(\"\\n3-d array: \\n\", arr3)\n",
    "\n",
    "print(\"Dimension : \",arr3.ndim)"
   ]
  },
  {
   "cell_type": "code",
   "execution_count": null,
   "metadata": {},
   "outputs": [
    {
     "name": "stdout",
     "output_type": "stream",
     "text": [
      "Original array : \n",
      " [[ 1  2  3  4]\n",
      " [ 5  6  7  8]\n",
      " [ 9 10 11 12]]\n",
      "Dimension :  2\n",
      "Transpose array : \n",
      " [[ 1  5  9]\n",
      " [ 2  6 10]\n",
      " [ 3  7 11]\n",
      " [ 4  8 12]]\n",
      "Transpose array(.T): \n",
      " [[ 1  5  9]\n",
      " [ 2  6 10]\n",
      " [ 3  7 11]\n",
      " [ 4  8 12]]\n"
     ]
    }
   ],
   "source": [
    "# Reshaping using transpose : to convert row to columns and vice versa\n",
    "arr1 = np.arange(1,13).reshape(3,4)  # here total elements = 12\n",
    "\n",
    "print(\"Original array : \\n\",arr1)\n",
    "print(\"Dimension : \",arr1.ndim)\n",
    "\n",
    "# using transpose to swap rows to columns or vice versa\n",
    "trans_arr1 = np.transpose(arr1) \n",
    "print(\"Transpose array : \\n\", trans_arr1)\n",
    "\n",
    "# using array.T   # must 'T' is capital letter\n",
    "arr1 = arr1.T     \n",
    "print(\"Transpose array(.T): \\n\",arr1)"
   ]
  },
  {
   "cell_type": "code",
   "execution_count": 95,
   "metadata": {},
   "outputs": [
    {
     "name": "stdout",
     "output_type": "stream",
     "text": [
      "Original 2-d array: \n",
      " [[ 1  2  3  4  5]\n",
      " [ 6  7  8  9 10]]\n",
      "Dimension :  2\n",
      "Ravel 1-d array: \n",
      " [ 1  2  3  4  5  6  7  8  9 10]\n",
      "Dimension :  1\n",
      "Total number of elements:  24\n",
      "Original 3-d array: \n",
      " [[[ 2  6 10 14]\n",
      "  [18 22 26 30]]\n",
      "\n",
      " [[34 38 42 46]\n",
      "  [50 54 58 62]]\n",
      "\n",
      " [[66 70 74 78]\n",
      "  [82 86 90 94]]]\n",
      "Ravel 1-d array: \n",
      " [ 2  6 10 14 18 22 26 30 34 38 42 46 50 54 58 62 66 70 74 78 82 86 90 94]\n"
     ]
    }
   ],
   "source": [
    "'''  \n",
    "# using ravel : use to change a multi-dimensional array into a 1-d array\n",
    "\n",
    "- Syntax:\n",
    "      arr_name.ravel()\n",
    "---------------\n",
    "'''\n",
    "arr2 = np.arange(1,11).reshape(2,5)\n",
    "print(\"Original 2-d array: \\n\",arr2)\n",
    "print(\"Dimension : \",arr2.ndim)\n",
    "\n",
    "# using ravel to convert to 1-d array\n",
    "arr1 = arr2.ravel()\n",
    "print(\"Ravel 1-d array: \\n\",arr1)\n",
    "print(\"Dimension : \",arr1.ndim)\n",
    "\n",
    "\n",
    "# example 2: create a 3-d array \n",
    "arr = np.arange(2,98,4)\n",
    "print(\"Total number of elements: \",arr.size)\n",
    "\n",
    "\n",
    "arr3 = np.arange(2,98,4).reshape(3,2,4)\n",
    "print(\"Original 3-d array: \\n\",arr3)\n",
    "\n",
    "# using ravel to convert to 1-d array\n",
    "arr1 = arr3.ravel()\n",
    "\n",
    "print(\"Ravel 1-d array: \\n\",arr1)\n"
   ]
  },
  {
   "cell_type": "markdown",
   "metadata": {},
   "source": [
    "- 3.3 stacking \n",
    "    -----------\n",
    "   -  refers to combining multiple arrays along a new axis\n",
    "   - type:\n",
    "      >> np.stack(arr1,arr2, axis=0) * \n",
    "      >> np.hstack(arr1,arr2)  * *\n",
    "      >> np.vstack(arr1,arr2)  * *\n",
    "      >> np.dstack(arr1,arr2)  * * *\n",
    "      >> np.concatenate((arr1,arr2),axis=0)\n",
    "      >> np.column_stack(arr1,arr2)\n",
    "      >> np.row_stack(arr1,arr2)"
   ]
  },
  {
   "cell_type": "code",
   "execution_count": null,
   "metadata": {},
   "outputs": [
    {
     "name": "stdout",
     "output_type": "stream",
     "text": [
      "Total elements:  (20,)\n",
      "Array one: \n",
      " [[10 12 14 16 18]\n",
      " [20 22 24 26 28]\n",
      " [30 32 34 36 38]\n",
      " [40 42 44 46 48]]\n",
      "Array two: \n",
      " [[60 62 64 66 68]\n",
      " [70 72 74 76 78]\n",
      " [80 82 84 86 88]\n",
      " [90 92 94 96 98]]\n",
      "arr3: \n",
      " [[[10 12 14 16 18]\n",
      "  [60 62 64 66 68]]\n",
      "\n",
      " [[20 22 24 26 28]\n",
      "  [70 72 74 76 78]]\n",
      "\n",
      " [[30 32 34 36 38]\n",
      "  [80 82 84 86 88]]\n",
      "\n",
      " [[40 42 44 46 48]\n",
      "  [90 92 94 96 98]]]\n"
     ]
    }
   ],
   "source": [
    "\"\"\"  \n",
    "example one: use np.stack((arr1,arr2),axis = 0)  # 0 = cols way(vertical order)\n",
    "------------------------------------------------\n",
    "    - To combine multiple arrays\n",
    "    - condition: all arrays must have the same shape\n",
    "\n",
    "\"\"\"\n",
    "arr1 = np.arange(10, 50,2)\n",
    "print(\"Total elements: \",arr1.shape)  # total elements\n",
    "arr1 = np.arange(10, 50,2).reshape(4,5)\n",
    "print(\"Array one: \\n\",arr1)\n",
    "\n",
    "arr2 = np.arange(60, 100,2).reshape(4,5)\n",
    "print(\"Array two: \\n\",arr2)\n",
    "\n",
    "arr3 = np.stack((arr1, arr2), axis = 0) # 0 = cols way(horizontal order), 1 = rows way(vertical order)\n",
    "print(\"arr3: \\n\",arr3)\n",
    "   "
   ]
  },
  {
   "cell_type": "code",
   "execution_count": null,
   "metadata": {},
   "outputs": [],
   "source": []
  }
 ],
 "metadata": {
  "kernelspec": {
   "display_name": "ml_env",
   "language": "python",
   "name": "python3"
  },
  "language_info": {
   "codemirror_mode": {
    "name": "ipython",
    "version": 3
   },
   "file_extension": ".py",
   "mimetype": "text/x-python",
   "name": "python",
   "nbconvert_exporter": "python",
   "pygments_lexer": "ipython3",
   "version": "3.13.0"
  }
 },
 "nbformat": 4,
 "nbformat_minor": 2
}
